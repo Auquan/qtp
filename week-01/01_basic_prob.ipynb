{
 "cells": [
  {
   "cell_type": "markdown",
   "metadata": {},
   "source": [
    "*This notebook is intellectual property of Auquan and is distributed under the [Creative Commons Attribution-NonCommercial-NoDerivatives 4.0 International Public License](https://creativecommons.org/licenses/by-nc-nd/4.0/legalcode). Any modification or distribution of this notebook without express permission of Auquan is prohibited and will result in legal prosecution.*"
   ]
  },
  {
   "cell_type": "markdown",
   "metadata": {},
   "source": [
    "## Basic Probability (Recap)\n",
    "\n",
    "Consider an experiment that can produce a number of results. The collection of all possible results is called the sample space of the experiment. A probability assigns every event a value between zero and one, equal to the likelihood that the event occurs, such that the sum of probabilities of all possible events = 1. \n",
    "\n",
    "#### Some Definitions\n",
    "\n",
    "$ P(A) $ = likelihood that A occurs in the given sample space.\n",
    "\n",
    "$ P(A \\cap B) $: If two events A and B occur on a single performance of an experiment, the intersection of ''A'' and ''B''.\n",
    "\n",
    "Here's a quick recap of basic probability functions:\n",
    "\n",
    "##### Independent events \n",
    "\n",
    "If two events, 'A' and 'B' are independent then the joint probability is\n",
    ":$ P(A \\mbox{ and }B) =  P(A \\cap B) = P(A) P(B),\\,$\n",
    "for example, if two coins are flipped the chance of both being heads is $\\tfrac{1}{2}\\times\\tfrac{1}{2} = \\tfrac{1}{4}$\n",
    "\n",
    "##### Mutually exclusive events\n",
    "\n",
    "If either A or B occur on a single performance of an experiment,  the union of A and B, denoted as $P(A \\cup B)$.\n",
    "If two events are mutually exclusive, then the probability of either occurring is: $P(A\\mbox{ or }B) =  P(A \\cup B)= P(A) + P(B).$\n",
    "For example, the chance of rolling a 1 or 2 on a six-sided {{dice}} is $P(1\\mbox{ or }2) = P(1) + P(2) = \\tfrac{1}{6} + \\tfrac{1}{6} = \\tfrac{1}{3}.$\n",
    "\n",
    "##### Not mutually exclusive events\n",
    "\n",
    "If the events are not mutually exclusive then: $P\\left(A \\hbox{ or } B\\right)=P\\left(A\\right)+P\\left(B\\right)-P\\left(A \\mbox{ and } B\\right).$\n",
    "For example, when drawing a single card at random from a regular deck of cards, the chance of getting a heart or a face card (J,Q,K) (or one that is both) is $\\tfrac{13}{52} + \\tfrac{12}{52} - \\tfrac{3}{52} = \\tfrac{11}{26}$.\n",
    "\n",
    "##### Conditional probability\n",
    "The probability of some event A occuring, given the occurrence of some other event 'B.\n",
    "$P(A \\mid B)$ : $P(A \\mid B) = \\frac{P(A \\cap B)}{P(B)}.\\,$\n",
    "If $P(B)=0$ then $P(A \\mid B)$ is formally undefined.\n",
    "\n",
    "For example, in a bag of 2 red balls and 2 blue balls, the probability of taking a red ball is $1/2$; Now ince we draw a ball, the probability second ball being either a red ball or a blue ball depends on the ball previously taken. If a red ball was taken first, the probability of picking a red ball again would be $1/3$.\n",
    "\n",
    "\n",
    "##### Summary of probabilities\n",
    "\n",
    "| Event | Probability\n",
    "|-\n",
    "|A|$P(A)\\in[0,1]\\,$\n",
    "|-\n",
    "|not A|$P(A^\\complement)=1-P(A)\\,$\n",
    "|-\n",
    "|A or B|<math>\\begin{align}\n",
    "P(A\\cup B) & = P(A)+P(B)-P(A\\cap B) \\\\\n",
    "P(A\\cup B) & = P(A)+P(B) \\qquad\\mbox{if A and B are mutually exclusive} \\\\\n",
    "\\end{align}</math>\n",
    "|-\n",
    "|A and B|<math>\\begin{align}\n",
    "P(A\\cap B) & = P(A|B)P(B) = P(B|A)P(A)\\\\\n",
    "P(A\\cap B) &  = P(A)P(B) \\qquad\\mbox{if A and B are independent}\\\\\n",
    "\\end{align}</math>\n",
    "|-\n",
    "|A given B|<math>\\begin{align}P(A \\mid B) = \\frac{P(A \\cap B)}{P(B)} = \\frac{P(B|A)P(A)}{P(B)} \\,\\end{align}</math>\n",
    "|"
   ]
  },
  {
   "cell_type": "markdown",
   "metadata": {},
   "source": [
    "**Let's do a few warmup exercises on probability before we start this week's module.**\n",
    "\n",
    "If we have a stock that behaves as follows: At any given time, there is 50% probability that stock price moves up by 1 and 50% probability that stock prices moves down. If current price of the stock is 100$, What is the fair price of this stock at the next time?\n",
    "\n",
    "    P(+1)=50%  - 101\n",
    "    |\n",
    "    100\n",
    "    |\n",
    "    P(-1)=50%  - 99"
   ]
  },
  {
   "cell_type": "code",
   "execution_count": null,
   "metadata": {},
   "outputs": [],
   "source": [
    "current_price = 100\n",
    "P_upmove = 0.5\n",
    "P_downmove = 0.5\n",
    "increment = 1\n",
    "## Write code to calculate fair value"
   ]
  },
  {
   "cell_type": "markdown",
   "metadata": {},
   "source": [
    "What did you get?\n",
    "\n",
    "This stock follows what is called a Random Walk. We'll cover the exact mechanics of a Random Walk later. But you will notice that $FairPrice(t) = FairPrice(t+1)$\n",
    "\n",
    "Alright, now if current price of the stock is 100$ again, what is the probability that stock price goes to 102 before it goes to 96?"
   ]
  },
  {
   "cell_type": "code",
   "execution_count": null,
   "metadata": {},
   "outputs": [],
   "source": [
    "current_price = 100\n",
    "P_upmove = 0.5\n",
    "P_downmove = 0.5\n",
    "high_level = 102\n",
    "low_level = 96\n",
    "## Write code to calculate probability\n",
    "## stock price goes to high_level before it goes to low_leveli"
   ]
  },
  {
   "cell_type": "markdown",
   "metadata": {},
   "source": [
    "Did your code return $2/3$? If not, try again!\n",
    "You might be wondering, how is this useful?\n",
    "\n",
    "Consider this situation: You expect the price of a stock to be 100\\$.\n",
    "\n",
    "Somehow, this stock was trading lower so you buy stock at $95\\$$.   \n",
    "Now the stock is trading at $98\\$$. \n",
    "You are paying $1\\$$ to trade. This means if you sell now, you make a profit of (98-95)-1(fees to buy)-1(fees to sell) = $1\\$$\n",
    "If the stock prices behave the same as above, should you sell the stock now or wait for price to go to $99\\$$ before selling?\n",
    "\n",
    "Give a think to the problem before reading on...\n"
   ]
  },
  {
   "cell_type": "markdown",
   "metadata": {},
   "source": [
    "..."
   ]
  },
  {
   "cell_type": "markdown",
   "metadata": {},
   "source": [
    "Let's attempt to answer like this:\n",
    "- If you sell now, you make $1\\$$\n",
    "- If you wait for $99\\$$, price actually goes to 99 and you sell then, you make (99-95)-1-1 = $2\\$$\n",
    "- If you wait for $99\\$$ but price goes back to $95\\$$, you make 0 \n",
    "- It only makes sense to wait to sell if you can expect to make more money by waiting\n",
    "\n",
    "Can you solve this now?"
   ]
  },
  {
   "cell_type": "code",
   "execution_count": null,
   "metadata": {},
   "outputs": [],
   "source": [
    "current_price = 98\n",
    "buy_price = 95\n",
    "increment = 1\n",
    "P_upmove = 0.5\n",
    "P_downmove = 0.5\n",
    "fees = 1\n",
    "## Write code to calculate if you should sell now or wait \n"
   ]
  },
  {
   "cell_type": "markdown",
   "metadata": {},
   "source": [
    "What do you think? Wait or sell? If you decide to sell, double check your work again!\n",
    "\n",
    "We often turn to probabilitic estimamtes to answer questions like these in actual trading scenarios. Obviously, the exact probabilities of stock moves are not known to us like here. Hence we study various statistical distributions to make our best estimates for these probabilities.\n",
    "\n",
    "Notice how I said if price goes back to $95$$, you make 0 (and not -1, the fees to buy). This is because you've already bought once and won't buy again(v/s the buy you'd have to make if you sold 98 and price went back to 95), saving you the fees of the second buy.\n",
    "\n",
    "You might also say, if we expect the price of this stock to be $100\\$$, shouldn't the probability that price goes up by $1\\$$ be higher than probability that price goes down by $1\\$$? It ideally should, or you won't expect the price to be $100\\$$"
   ]
  },
  {
   "cell_type": "markdown",
   "metadata": {},
   "source": [
    "**Let's try one more:**\n",
    "If we have a stock that behaves as follows: The stock price starts at $100\\$$. Now at any given time, there is 50% probability that stock price deviates further by 1 and 50% probability that stock price goes back to $100\\$$. You are paying $1\\$$ to trade. What price should you trade this stock if it starts moving upwards?\n",
    "\n",
    "    P(+1)=50%  - 101 \n",
    "    |\n",
    "    100\n",
    "    |\n",
    "    P(-1)=50%  - 99\n",
    "    P(+1)=50%  - 102 \n",
    "    |\n",
    "    101\n",
    "    |\n",
    "    P(-1)=50%  - 100\n",
    "    P(+1)=50%  - 103 \n",
    "    |\n",
    "    102\n",
    "    |\n",
    "    P(-1)=50%  - 100"
   ]
  },
  {
   "cell_type": "code",
   "execution_count": null,
   "metadata": {},
   "outputs": [],
   "source": [
    "base_price = 100\n",
    "increment = 1\n",
    "P_increase_by_1 = 0.5\n",
    "P_return_to_100 = 0.5\n",
    "fees = 1\n",
    "## Write code to calculate the ideal price to sell this stock\n"
   ]
  },
  {
   "cell_type": "markdown",
   "metadata": {},
   "source": [
    "*This presentation is for informational purposes only and does not constitute an offer to sell, a solicitation to buy, or a recommendation for any security; nor does it constitute an offer to provide investment advisory or other services by Auquan. Nothing contained herein constitutes investment advice or offers any opinion with respect to the suitability of any security, and any views expressed herein should not be taken as advice to buy, sell, or hold any security or as an endorsement of any security or company. In preparing the information contained herein, Auquan, has not taken into account the investment needs, objectives, and financial circumstances of any particular investor. Any views expressed and data illustrated herein were prepared based upon information, believed to be reliable, available to Auquan, at the time of publication. Auquan makes no guarantees as to their accuracy or completeness. All information is subject to change and may quickly become unreliable for various reasons, including changes in market conditions or economic circumstances.*"
   ]
  }
 ],
 "metadata": {
  "kernelspec": {
   "display_name": "Python 3",
   "language": "python",
   "name": "python3"
  },
  "language_info": {
   "codemirror_mode": {
    "name": "ipython",
    "version": 3
   },
   "file_extension": ".py",
   "mimetype": "text/x-python",
   "name": "python",
   "nbconvert_exporter": "python",
   "pygments_lexer": "ipython3",
   "version": "3.7.3"
  }
 },
 "nbformat": 4,
 "nbformat_minor": 2
}
