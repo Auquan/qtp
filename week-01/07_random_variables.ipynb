{
 "cells": [
  {
   "cell_type": "markdown",
   "metadata": {},
   "source": [
    "*This notebook is intellectual property of Auquan and is distributed under the [Creative Commons Attribution-NonCommercial-NoDerivatives 4.0 International Public License](https://creativecommons.org/licenses/by-nc-nd/4.0/legalcode). Any modification or distribution of this notebook without express permission of Auquan is prohibited and will result in legal prosecution.*"
   ]
  },
  {
   "cell_type": "markdown",
   "metadata": {},
   "source": [
    "# Bonus Content"
   ]
  },
  {
   "cell_type": "code",
   "execution_count": null,
   "metadata": {},
   "outputs": [],
   "source": [
    "# Install yahoo finance to obtain historical market data\n",
    "!pip install yfinance"
   ]
  },
  {
   "cell_type": "markdown",
   "metadata": {},
   "source": [
    "## Log Normal Distribution\n",
    "\n",
    "Let's go over one final distribution before we end this section, the log-normal distribution.\n",
    "Consider a positive random variable $X$ such that natural logarithm of X is normally distributed. That is:\n",
    "\n",
    "$ln(X)$ **~** $N(\\mu , \\sigma^2)$\n",
    "\n",
    "Then $X$ follows a log normal distribution.\n",
    "\n",
    "**Ex1: Create a class `LogNormalRandomVariable` that draws sample from a log normal distribution with (mean, std) = (mu, sigma)**\n",
    "\n",
    "You can again use `np.random.normal()` function and take `np.exp()` to draw your samples. "
   ]
  },
  {
   "cell_type": "code",
   "execution_count": null,
   "metadata": {},
   "outputs": [],
   "source": [
    "import numpy as np\n",
    "import matplotlib.pyplot as plt\n",
    "import warnings\n",
    "warnings.filterwarnings('ignore')\n",
    "\n",
    "class LogNormalRandomVariable():\n",
    "    def __init__(self, mu = 0, sigma = 1):\n",
    "        self.variableType = \"LogNormal\"\n",
    "        self.mu = mu\n",
    "        self.sigma = sigma\n",
    "        return\n",
    "    def draw(self, numberOfSamples):\n",
    "        # Write your code here #\n",
    "        samples = np.random.normal(self.mu, self.sigma, numberOfSamples)\n",
    "        return np.exp(samples)"
   ]
  },
  {
   "cell_type": "markdown",
   "metadata": {},
   "source": [
    "**Ex2: Now use this to plot pdf for a lognormal distribtion with $\\mu = 0$ and $\\sigma = 1$. Overlay a normal distribution with $\\mu = 0$ and $\\sigma = 1$ on this.**\n"
   ]
  },
  {
   "cell_type": "code",
   "execution_count": null,
   "metadata": {},
   "outputs": [],
   "source": [
    "mu, sigma = 0, 1\n",
    "n = 10000\n",
    "normal_samples = np.random.normal(mu, sigma, n)\n",
    "\n",
    "# Create log normal random variable\n",
    "X = LogNormalRandomVariable(mu, sigma)\n",
    "\n",
    "# Draw from the lognormal distribution\n",
    "lognormal_samples = X.draw(n)\n",
    "\n",
    "plt.figure(figsize=(7,7))\n",
    "plt.hist(normal_samples, density=True, bins = 500, histtype='step', label = 'Normal')\n",
    "plt.hist(lognormal_samples, density=True, bins=500, histtype='step', label = 'Lognormal')\n",
    "plt.xlim(-5, 5)\n",
    "plt.ylim(0, 0.8)\n",
    "plt.legend()\n",
    "plt.show();"
   ]
  },
  {
   "cell_type": "markdown",
   "metadata": {},
   "source": [
    "What do you notice? You chart should look similar to the plot below\n"
   ]
  },
  {
   "cell_type": "code",
   "execution_count": null,
   "metadata": {},
   "outputs": [],
   "source": [
    "mu_1 = 0\n",
    "sigma_1 = 1\n",
    "x = np.linspace(-5, 5, 200)\n",
    "y = (1/(sigma_1 * np.sqrt(2 * 3.14159))) * np.exp(-(x - mu_1)*(x - mu_1) / (2 * sigma_1 * sigma_1))\n",
    "z = (1/(sigma_1 * np.sqrt(2 * 3.14159) * x)) * np.exp(-( np.log(x) - mu_1)*(np.log(x) - mu_1) / (2 * sigma_1 * sigma_1))\n",
    "plt.figure(figsize=(7,7))\n",
    "plt.plot(x, y, label='Normal')\n",
    "plt.plot(x, z, label='Lognormal')\n",
    "plt.xlim(-5, 5)\n",
    "plt.ylim(0, 0.8)\n",
    "plt.xlabel('Value')\n",
    "plt.ylabel('Probability')\n",
    "plt.legend()\n",
    "plt.show()"
   ]
  },
  {
   "cell_type": "markdown",
   "metadata": {},
   "source": [
    "The distribution has higer peak compared to a normal distribution, it is also skewed to the left. Often times, we find that log of changes in stock prices behave normal instead of the returns thmeselves, because of the skew in prices. \n",
    "\n",
    "Let's see if we can fit lognormal distribution to Apple prices. Try the Jarque-Bera test on log of difference in stock prices. Since log is undefined for -ve values, we use $\\log(P(t+1)/P(t))$"
   ]
  },
  {
   "cell_type": "code",
   "execution_count": null,
   "metadata": {},
   "outputs": [],
   "source": [
    "import yfinance as yf\n",
    "\n",
    "startDateStr = '2007-12-01'\n",
    "endDateStr = '2017-12-01'\n",
    "data = yf.download('AAPL', startDateStr, endDateStr)\n",
    "prices = data.Close"
   ]
  },
  {
   "cell_type": "code",
   "execution_count": null,
   "metadata": {},
   "outputs": [],
   "source": [
    "log_returns = np.log( prices/prices.shift(1) )\n",
    "log_returns = log_returns.dropna()\n",
    "plt.hist(log_returns, bins = 100)\n",
    "plt.xlabel('Value')\n",
    "plt.ylabel('Occurrences')\n",
    "plt.show()"
   ]
  },
  {
   "cell_type": "code",
   "execution_count": null,
   "metadata": {},
   "outputs": [],
   "source": [
    "returns = prices / prices.shift(1) - 1"
   ]
  },
  {
   "cell_type": "code",
   "execution_count": null,
   "metadata": {},
   "outputs": [],
   "source": [
    "import scipy\n",
    "import scipy.stats\n",
    "\n",
    "#Set a cutoff\n",
    "cutoff = 0.01\n",
    "# log_returns = returns/returns.shift(1)\n",
    "# log_returns = log_returns.replace([np.inf, -np.inf], np.nan)\n",
    "# log_returns = log_returns.dropna()\n",
    "# Get the p-value of the normality test\n",
    "k2, p_value = scipy.stats.normaltest(log_returns.values)\n",
    "print(\"The JB test p-value is: \", p_value)\n",
    "print(\"We reject the hypothesis that the data are normally distributed: \", p_value < cutoff)"
   ]
  },
  {
   "cell_type": "markdown",
   "metadata": {},
   "source": [
    "Still no luck! You can see why fitting a distribution to market prices is no easy task"
   ]
  }
 ],
 "metadata": {
  "kernelspec": {
   "display_name": "Python 3",
   "language": "python",
   "name": "python3"
  },
  "language_info": {
   "codemirror_mode": {
    "name": "ipython",
    "version": 3
   },
   "file_extension": ".py",
   "mimetype": "text/x-python",
   "name": "python",
   "nbconvert_exporter": "python",
   "pygments_lexer": "ipython3",
   "version": "3.7.3"
  }
 },
 "nbformat": 4,
 "nbformat_minor": 2
}
