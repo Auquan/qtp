{
 "cells": [
  {
   "cell_type": "markdown",
   "metadata": {},
   "source": [
    "*This notebook is intellectual property of Auquan and is distributed under the [Creative Commons Attribution-NonCommercial-NoDerivatives 4.0 International Public License](https://creativecommons.org/licenses/by-nc-nd/4.0/legalcode). Any modification or distribution of this notebook without express permission of Auquan is prohibited and will result in legal prosecution.*"
   ]
  },
  {
   "cell_type": "markdown",
   "metadata": {},
   "source": [
    "# Continuous Random Variables\n",
    "Now we'll be moving on to continuous random variables:"
   ]
  },
  {
   "cell_type": "markdown",
   "metadata": {},
   "source": [
    "## Uniform Distribution\n",
    "The uniform distribution can also be defined within the framework of a continous random variable. We take $a$ and $b$ to be constant, where $b$ is the highest possible value and $a$ is the lowest possible value that the outcome can obtain. Then the PDF of a uniform random variable is:\n",
    "\n",
    "$$f(x) = \\begin{cases}\\frac{1}{b - a} & \\text{for $a < x < b$} \\ 0 & \\text{otherwise}\\end{cases}$$\n",
    "\n",
    "Since this function is defined on a continuous interval, the PDF covers all values between $a$ and $b$. \n",
    "\n",
    "**Ex1: Create a class `UniformRandomVariable` and use it to plot a pdf of a uniform distribtion over range $(a,b) = (1,8)$**\n",
    "\n",
    "You can use `np.random.uniform()` function to draw your samples"
   ]
  },
  {
   "cell_type": "code",
   "execution_count": null,
   "metadata": {},
   "outputs": [],
   "source": [
    "import matplotlib.pyplot as plt\n",
    "import numpy as np\n",
    "\n",
    "class UniformRandomVariable():\n",
    "    def __init__(self, a = 0, b = 1):\n",
    "        self.variableType = \"\"\n",
    "        self.low = a\n",
    "        self.high = b\n",
    "\n",
    "    def draw(self, numberOfSamples):\n",
    "        # Extend this function to return an array of samples drawn from uniform distribution\n",
    "        return None\n",
    "    \n",
    "plt.figure(figsize=(10,10))\n",
    "#Fill in code to plot pdf for 10,000 samples of a uniform distribtion over range (0,8)\n",
    "\n",
    "plt.xlim(0, 9)\n",
    "plt.ylim(0, 1)\n",
    "plt.xlabel('Value')\n",
    "plt.ylabel('Probability')\n",
    "plt.show()\n"
   ]
  },
  {
   "cell_type": "markdown",
   "metadata": {},
   "source": [
    "You should be able to see something like below"
   ]
  },
  {
   "cell_type": "code",
   "execution_count": null,
   "metadata": {},
   "outputs": [],
   "source": [
    "a = 0\n",
    "b = 8 \n",
    "x = np.linspace(1, 8, 200)\n",
    "y = [1/7]*len(x) \n",
    "plt.bar(x, y)\n",
    "plt.xlim(0, 9)\n",
    "plt.ylim(0, 1)\n",
    "plt.xlabel('Value')\n",
    "plt.ylabel('Probability');"
   ]
  },
  {
   "cell_type": "markdown",
   "metadata": {},
   "source": [
    "As before in the discrete uniform case, the continuous uniform distribution PDF is constant for all values the variable can take on. The only difference here is that we cannot take the probability for any individual point. The CDF, which we get from integrating the PDF is:\n",
    "$$ F(x) = \\begin{cases} \n",
    "    0 & \\text{for $x \\leq a$} \\\\ \\frac{x - a}{b - a} & \\ \\text{for $a < x < b$} \\\\ \n",
    "    1 & \\text{for $x \\geq b$}\\end{cases}\n",
    "$$\n",
    "\n",
    "**Ex2: Write code to plot the cdf on the same interval as the PDF**"
   ]
  },
  {
   "cell_type": "code",
   "execution_count": null,
   "metadata": {},
   "outputs": [],
   "source": [
    "plt.figure(figsize=(10,10))\n",
    "#Fill in code to plot cdf for 10,000 samples of a uniform distribtion over range (0,8)\n",
    "\n",
    "plt.show()\n"
   ]
  },
  {
   "cell_type": "markdown",
   "metadata": {},
   "source": [
    "The most widely used distribution with widespread applications in finance is the normal distribution.\n",
    "\n",
    "## Normal Distribution\n",
    "\n",
    "Many important tests and methods in statistics, and by extension, finance, are based on the assumption of normality. A large part of this is due to the results of the Central Limit Theorem (CLT) which we will talk about below. The convenience of the normal distribution finds its way into certain algorithmic trading strategies as well. "
   ]
  },
  {
   "cell_type": "markdown",
   "metadata": {},
   "source": [
    "Normal distributions are described by their mean ($\\mu$) and variance ($\\sigma^2$, where $\\sigma$ is the standard deviation). The probability density of the normal distribution is:\n",
    "\n",
    "$$\n",
    "f(x) = \\frac{1}{\\sigma\\sqrt{2\\pi}}e^{-\\frac{(x - \\mu)^2}{2\\sigma^2}}\n",
    "$$\n",
    "\n",
    "And is defined for $-\\infty < x < \\infty$. When we have $\\mu = 0$ and $\\sigma = 1$, we call this the **standard normal distribution**.\n",
    "\n",
    "A normal random variable is denoted as  $X$ **~** $N(\\mu , \\sigma^2)$ .\n",
    "\n",
    "The resulting distribution is called a bell curve. By changing the mean and standard deviation of the normal distribution, we can change the depth and width of the bell curve. With a larger standard deviation, the values of the distribution are less concentrated around the mean."
   ]
  },
  {
   "cell_type": "markdown",
   "metadata": {},
   "source": [
    "**Ex3: Create a class `NormalRandomVariable` that can be used to derive samples from a normal distribution with (mean, std) = (mu, sigma)**\n",
    "\n",
    "You can use `np.random.normal()` function to draw your samples."
   ]
  },
  {
   "cell_type": "code",
   "execution_count": null,
   "metadata": {},
   "outputs": [],
   "source": [
    "class NormalRandomVariable():\n",
    "    def __init__(self, mu = 0, sigma = 1):\n",
    "        self.variableType = \"\"\n",
    "        self.mu = mu\n",
    "        self.mu = sigma\n",
    "\n",
    "    def draw():\n",
    "        # Extend this function to return an array of samples drawn from a normal distribution\n",
    "        return None"
   ]
  },
  {
   "cell_type": "markdown",
   "metadata": {},
   "source": [
    "**Ex4: Use the class above to plot pdfs of two normal distribtions:**\n",
    "1. $\\mu = 0$ and $\\sigma = 1$\n",
    "2. $\\mu = 0$ and $\\sigma = 2$\n",
    "\n",
    "Plot these over a range $(-5,5)$\n",
    "\n",
    "You can use `np.linspace()` function to generate the bins"
   ]
  },
  {
   "cell_type": "code",
   "execution_count": null,
   "metadata": {},
   "outputs": [],
   "source": [
    "plt.figure(figsize=(10,10))\n",
    "#Fill in code to plot pdf for two normal distribtions\n",
    "plt.show()\n"
   ]
  },
  {
   "cell_type": "markdown",
   "metadata": {},
   "source": [
    "Can you see how one curve is shorter and wider than the other? Run the code below. Do your charts look similar?\n"
   ]
  },
  {
   "cell_type": "code",
   "execution_count": null,
   "metadata": {},
   "outputs": [],
   "source": [
    "mu_1 = 0\n",
    "mu_2 = 0\n",
    "sigma_1 = 1\n",
    "sigma_2 = 2\n",
    "x = np.linspace(-8, 8, 200)\n",
    "y = (1/(sigma_1 * np.sqrt(2 * 3.14159))) * np.exp(-(x - mu_1)*(x - mu_1) / (2 * sigma_1 * sigma_1))\n",
    "z = (1/(sigma_2 * np.sqrt(2 * 3.14159))) * np.exp(-(x - mu_2)*(x - mu_2) / (2 * sigma_2 * sigma_2))\n",
    "plt.plot(x, y, x, z)\n",
    "plt.xlabel('Value')\n",
    "plt.ylabel('Probability');"
   ]
  }
 ],
 "metadata": {
  "kernelspec": {
   "display_name": "Python 3",
   "language": "python",
   "name": "python3"
  },
  "language_info": {
   "codemirror_mode": {
    "name": "ipython",
    "version": 3
   },
   "file_extension": ".py",
   "mimetype": "text/x-python",
   "name": "python",
   "nbconvert_exporter": "python",
   "pygments_lexer": "ipython3",
   "version": "3.7.3"
  }
 },
 "nbformat": 4,
 "nbformat_minor": 2
}
