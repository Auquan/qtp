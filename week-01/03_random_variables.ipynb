{
 "cells": [
  {
   "cell_type": "markdown",
   "metadata": {},
   "source": [
    "*This notebook is intellectual property of Auquan and is distributed under the [Creative Commons Attribution-NonCommercial-NoDerivatives 4.0 International Public License](https://creativecommons.org/licenses/by-nc-nd/4.0/legalcode). Any modification or distribution of this notebook without express permission of Auquan is prohibited and will result in legal prosecution.*"
   ]
  },
  {
   "cell_type": "markdown",
   "metadata": {},
   "source": [
    "# Discrete Random Variables\n",
    "In this module we'll be going through some of the most commonly encountered distributions over discrete random variables"
   ]
  },
  {
   "cell_type": "markdown",
   "metadata": {},
   "source": [
    "## Uniform Distribution\n",
    "\n",
    "Let's look at the distribution of a die roll below. "
   ]
  },
  {
   "cell_type": "code",
   "execution_count": null,
   "metadata": {},
   "outputs": [],
   "source": [
    "import pandas as pd\n",
    "import numpy as np\n",
    "import matplotlib.pyplot as plt\n",
    "import scipy\n",
    "# from __future__ import division"
   ]
  },
  {
   "cell_type": "code",
   "execution_count": null,
   "metadata": {},
   "outputs": [],
   "source": [
    "class DiscreteRandomVariable:\n",
    "    def __init__(self, a=0, b=1):\n",
    "        self.variableType = \"\"\n",
    "        self.low = a\n",
    "        self.high = b\n",
    "        return\n",
    "    def draw(self, numberOfSamples):\n",
    "        samples = np.random.randint(self.low, self.high, numberOfSamples)\n",
    "        return samples"
   ]
  },
  {
   "cell_type": "markdown",
   "metadata": {},
   "source": [
    "A die roll can have 6 values, each value can occur with a probability of $1/6$. Each time we roll the die, we have an equal chance of getting each face. This is an example of uniform distribution. \n",
    "Using the class above, we can plot a chart for distribution for 10 die rolls."
   ]
  },
  {
   "cell_type": "code",
   "execution_count": null,
   "metadata": {},
   "outputs": [],
   "source": [
    "DieRolls = DiscreteRandomVariable(1, 6)\n",
    "plt.hist(DieRolls.draw(500), bins = [1,2,3,4,5,6,7], align = 'mid')\n",
    "plt.xlabel('Value')\n",
    "plt.ylabel('Occurences')\n",
    "plt.legend(['Die Rolls'])\n",
    "plt.show()"
   ]
  },
  {
   "cell_type": "markdown",
   "metadata": {},
   "source": [
    "In the short run this looks uneven, but if we take a large number of samples it should show tht each face is occurring the same percentage of times. \n",
    "\n",
    "**Ex1: Complete the code below to plot a chart that shows distribution for 10,000 die rolls. Do you agree?**"
   ]
  },
  {
   "cell_type": "code",
   "execution_count": null,
   "metadata": {},
   "outputs": [],
   "source": [
    "plt.figure(figsize=(10,10))\n",
    "#Fill in code to plot distribution for 10,000 die rolls\n",
    "\n",
    "plt.show()"
   ]
  },
  {
   "cell_type": "markdown",
   "metadata": {},
   "source": [
    "##### Independent and Identically Distributed:\n",
    "A random variable is **independent and identically distributed** *(i.i.d)* if each random variable has the same probability distribution as the others and all are mutually independent, i.e. outcome of one doesn’t affect the other. For example, random variables representing die rolls are i.i.d. The value of one die roll does not affect the value of next die roll."
   ]
  },
  {
   "cell_type": "markdown",
   "metadata": {},
   "source": [
    "## Binomial Distribution\n",
    "\n",
    "A binomial distribution is used to describe successes and failures in a binary experiment. This can be very useful in an investment context as many of our choices tend to be binary like this. \n",
    "A single experiment which can result in success with probability $p$ and failure with probability $(1-p)$ is called a Bernoulli trial.\n",
    "\n",
    "$$p(1) = P(X = 1) = p \\ \\ \\ \\ \\ \\ \\\\\n",
    "p(0) = P(X = 0) = 1-p$$\n",
    "\n",
    "For example, a coin toss with $p=0.5$ probability of success(Heads) and $p=0.5$ probability of failure(Tails) is a Bernoulli trial.\n",
    "\n",
    "A binomial distribution is a set of $n$ Bernoulli trials. There can be between $0$ and $n$ successes in $n$ trials, with each trial having the same probability of success, $p$, and all of the trials being independent of each other. A binomial random variable is denoted as $X$ **~** $B(n, p)$. \n",
    "\n",
    "The probability function of a binomial random variable $p(x)$ is the probability that there are exactly $x$ sucesses in $n$ trials. This is defined by choosing $x$ trials which should result in success and multiplying by the probability that these $x$ trails result in success and the remaining $n - x$ trials result in failure. The resulting probability function is:\n",
    "\n",
    "$$\n",
    "p(x) = P(X = x) = \\binom{n}{x}p^x(1-p)^{n-x} = \\frac{n!}{(n-x)! \\ x!} p^x(1-p)^{n-x}\n",
    "$$\n",
    "\n",
    "If $X$ is a binomial random variable distributed with $B(n, p)$."
   ]
  },
  {
   "cell_type": "code",
   "execution_count": null,
   "metadata": {},
   "outputs": [],
   "source": [
    "class BinomialRandomVariable():\n",
    "    def __init__(self, numberOfTrials = 10, probabilityOfSuccess = 0.5):\n",
    "        self.variableType = \"Binomial\"\n",
    "        self.numberOfTrials = numberOfTrials\n",
    "        self.probabilityOfSuccess = probabilityOfSuccess\n",
    "        return\n",
    "    def draw(self, numberOfSamples):\n",
    "        samples = np.random.binomial(self.numberOfTrials, self.probabilityOfSuccess, numberOfSamples)\n",
    "        return samples"
   ]
  },
  {
   "cell_type": "markdown",
   "metadata": {},
   "source": [
    "Take the example of our earlier stock price moving up or down, each with probability $p = 0.5$. We can consider a move up to be a success and a move down to be a failure. With this, we can analyze the probability of each event using a binomial random variable. Setting $n=5$ for $5$ observations of the stock price over time, the following table shows the probability of each event:\n",
    "\n",
    "Number of Up moves, $x$ |  $\\binom{n}{x}$ | $p^x(1-p)^{n-x}, p = 0.50$ | $p(x)$ Value | $P(X \\leq x)$ |\n",
    "--- | --- | --- | --- | --- |\n",
    "$0$ | $1$ | $0.50^0 (1 - 0.50)^5 = 0.03125$ | $0.03125$ | $0.03125$\n",
    "$1$ | $5$ | $0.50^1 (1 - 0.50)^4 = 0.03125$ | $0.15635$ | $0.18750$\n",
    "$2$ | $10$ | $0.50^2 (1 - 0.50)^3 = 0.03125$ | $0.31250$ | $0.50000$\n",
    "$3$ | $10$ | $0.50^3 (1 - 0.50)^2 = 0.03125$ | $0.31250$ | $0.81250$\n",
    "$4$ | $5$ | $0.50^4 (1 - 0.50)^1 = 0.03125$ | $0.15635$ | $0.96875$\n",
    "$5$ | $1$ | $0.50^5 (1 - 0.50)^0 = 0.03125$ | $0.03125$ | $1.00000$\n",
    "\n",
    "In the particular case where $p = 0.50$, the binomial distribution is symmetric. If we were to slightly modify the value of $p$ we would end up with an asymmetric distribution."
   ]
  },
  {
   "cell_type": "markdown",
   "metadata": {},
   "source": [
    "Let's draw the distribution of 10000 samples of this stock defined as a binomial random variable $B(5, 0.5)$, i.e 5 trials with 50% probability of success."
   ]
  },
  {
   "cell_type": "code",
   "execution_count": null,
   "metadata": {},
   "outputs": [],
   "source": [
    "StockProbabilities = BinomialRandomVariable(5, 0.50)"
   ]
  },
  {
   "cell_type": "code",
   "execution_count": null,
   "metadata": {},
   "outputs": [],
   "source": [
    "plt.hist(StockProbabilities.draw(10000), bins = [0, 1, 2, 3, 4, 5, 6], align = 'left')\n",
    "plt.xlabel('Value')\n",
    "plt.ylabel('Occurences');\n",
    "plt.show()"
   ]
  },
  {
   "cell_type": "markdown",
   "metadata": {},
   "source": [
    "We see that the dsitribution is symmetric, since probability of success = probability of failure. \n",
    "\n",
    "**Ex2: Now try skewing the probabilities such that probability of success is 0.25 and see what happens!**"
   ]
  },
  {
   "cell_type": "code",
   "execution_count": null,
   "metadata": {},
   "outputs": [],
   "source": [
    "plt.figure(figsize=(10,10))\n",
    "#Fill in code to plot histogram for 10,000 samples of B(5,0.25)\n",
    "\n",
    "plt.show()"
   ]
  },
  {
   "cell_type": "markdown",
   "metadata": {},
   "source": [
    "Changing $p$ to 0.25 should make the distribution asymmetric. \n",
    "\n",
    "We can extend this idea of an experiment following a binomial random variable into a framework that we call the **Binomial Model of Stock Price Movement**. In the Binomial Model, it is assumed that for any given time period a stock price can move up or down by a value determined by the up or down probabilities. This turns the stock price into the function of a binomial random variable, the magnitude of upward or downward movement, and the initial stock price. We can vary these parameters in order to approximate different stock price distributions."
   ]
  }
 ],
 "metadata": {
  "kernelspec": {
   "display_name": "Python 3",
   "language": "python",
   "name": "python3"
  },
  "language_info": {
   "codemirror_mode": {
    "name": "ipython",
    "version": 3
   },
   "file_extension": ".py",
   "mimetype": "text/x-python",
   "name": "python",
   "nbconvert_exporter": "python",
   "pygments_lexer": "ipython3",
   "version": "3.7.3"
  }
 },
 "nbformat": 4,
 "nbformat_minor": 2
}
