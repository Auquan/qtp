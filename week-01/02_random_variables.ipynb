{
 "cells": [
  {
   "cell_type": "markdown",
   "metadata": {},
   "source": [
    "*This notebook is intellectual property of Auquan and is distributed under the [Creative Commons Attribution-NonCommercial-NoDerivatives 4.0 International Public License](https://creativecommons.org/licenses/by-nc-nd/4.0/legalcode). Any modification or distribution of this notebook without express permission of Auquan is prohibited and will result in legal prosecution.*"
   ]
  },
  {
   "cell_type": "markdown",
   "metadata": {},
   "source": [
    "Now that you're warmed up, we'll go into more involved concepts and show how these can be applied to stock prices\n",
    "\n",
    "# Random Variables"
   ]
  },
  {
   "cell_type": "markdown",
   "metadata": {},
   "source": [
    "A **random variable**, X,  is a variable quantity (i.e., not necessarily fixed) whose possible values depend on a set of random events. Like a traditional mathematical variable, its value is unknown a priori (before the outcome of the events is known)\n",
    "A random variable's possible values might represent the possible outcomes of a yet to occur event. This event  can take on a range of values, each with an associated probability, giving the random variable a probability distribution\n"
   ]
  },
  {
   "cell_type": "markdown",
   "metadata": {},
   "source": [
    "For example, the value of a roll of a die is a random variable. This variable,X, can take values 1 - 6, each with a probability of ⅙, but it’s exact value is unknown till the die roll is actually performed."
   ]
  },
  {
   "cell_type": "markdown",
   "metadata": {},
   "source": [
    "A **probability distribution** is a mathematical function that assigns a probability to every possible value of a random variable.\n",
    "For example, the random variable X that represents the value of a die rolls and can take values 1 to 6, each with a probability of ⅙ has a distribution: $P(X=i) = 1/6$, where i = 1,2,3,4,5,6"
   ]
  },
  {
   "cell_type": "markdown",
   "metadata": {},
   "source": [
    "Random variables can be separated into two different classes:\n",
    " - Discrete random variables\n",
    " - Continuous random variables"
   ]
  },
  {
   "cell_type": "markdown",
   "metadata": {},
   "source": [
    "## Discrete Random Variables"
   ]
  },
  {
   "cell_type": "markdown",
   "metadata": {},
   "source": [
    "Discrete Random Variable has finitely countable outcomes. For example, the value of a coin toss can only be H or T, each with a probability of $1/2$. Similarly the value of a die roll can only be between 1 and 6"
   ]
  },
  {
   "cell_type": "markdown",
   "metadata": {},
   "source": [
    "For discrete random variables where X can take a finite set of values, the probability distribution function,  gives the probability $p(x)$ that X is exactly equal to some value.\n",
    "$p(x) = P(X=x)$, where x belongs to the finite set of values that are possible"
   ]
  },
  {
   "cell_type": "markdown",
   "metadata": {},
   "source": [
    "A probability distribution function has two main properties:\n",
    "1. $0 \\leq p(x) \\leq 1$ because all probabilities are in the interval $[0, 1]$\n",
    "2. The sum of all probabilities $p(x)$ over all values of X is equal to $1$. The total weights for all values of the random variable must add to $1$."
   ]
  },
  {
   "cell_type": "markdown",
   "metadata": {},
   "source": [
    "#### Which of the following are discrete random variables?\n",
    "1. Number of red marbles in a jar\n",
    "2. Number of heads when flipping three coins\n",
    "3. Students’ grade level"
   ]
  },
  {
   "cell_type": "code",
   "execution_count": null,
   "metadata": {},
   "outputs": [],
   "source": []
  },
  {
   "cell_type": "markdown",
   "metadata": {},
   "source": [
    "If your answer was all of them, you're correct!"
   ]
  },
  {
   "cell_type": "markdown",
   "metadata": {},
   "source": [
    "## Continuous Random Variables"
   ]
  },
  {
   "cell_type": "markdown",
   "metadata": {},
   "source": [
    "For continuous random variables (where X can take an infinite number of values over a continuous range), the probability of a single point, the probability that X is exactly equal to some value is zero. Instead we talk of probabilities over an interval and the probability distribution function gives the probability over such intervals which can include infinitely many outcomes. Instead of defining $P(X=a)$, we define a **probability density function** (PDF), $f(x)$, such that we can say:\n",
    "$$P(a < X < b) = \\int_a^b f(x)dx$$\n",
    "\n",
    "For example, if you want to buy a piece of rope 1 meter long and use a scale to measure it, the probability that the length is exactly 1 meter is zero. You can keep increasing the accuracy of your instrument so that the probability of measuring exactly 1m tends to zero. We might be able to say that there is 99% probability that the length is between 99cm and 1.01 m. \n",
    "Just like a probability distribution function $f(x)$ gives the probability that a random variable lies in a range, a  **cumulative distribution function** $F(x)$ describes the probability that a random variable is less than or equal to a given value.\n",
    "$$F(x) = P(X \\leq x) = \\int_{-\\infty}^{x} f(t) dt $$\n",
    "\n",
    "Similar to our requirement for discrete distributions that all probabilities add to $1$, here we require that:\n",
    "1. $f(x) \\geq 0$ for all values of $X$\n",
    "2. $P(-\\infty \\lt X \\lt \\infty) = \\int_{-\\infty}^{\\infty} f(x) dx = 1$\n"
   ]
  },
  {
   "cell_type": "markdown",
   "metadata": {},
   "source": [
    "#### Which of the following are continuous random variables?\n",
    "1. Height of students in class\n",
    "2. Number of students present in a class\n",
    "3. Time it takes to get to school"
   ]
  },
  {
   "cell_type": "code",
   "execution_count": null,
   "metadata": {},
   "outputs": [],
   "source": []
  },
  {
   "cell_type": "markdown",
   "metadata": {},
   "source": [
    "If your answer was 1 and 2, you're correct!"
   ]
  }
 ],
 "metadata": {
  "kernelspec": {
   "display_name": "Python 3",
   "language": "python",
   "name": "python3"
  },
  "language_info": {
   "codemirror_mode": {
    "name": "ipython",
    "version": 3
   },
   "file_extension": ".py",
   "mimetype": "text/x-python",
   "name": "python",
   "nbconvert_exporter": "python",
   "pygments_lexer": "ipython3",
   "version": "3.7.3"
  }
 },
 "nbformat": 4,
 "nbformat_minor": 2
}
