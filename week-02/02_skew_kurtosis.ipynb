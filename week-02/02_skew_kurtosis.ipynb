{
 "cells": [
  {
   "cell_type": "markdown",
   "metadata": {},
   "source": [
    "*This notebook is intellectual property of Auquan and is distributed under the [Creative Commons Attribution-NonCommercial-NoDerivatives 4.0 International Public License](https://creativecommons.org/licenses/by-nc-nd/4.0/legalcode). Any modification or distribution of this notebook without express permission of Auquan is prohibited and will result in legal prosecution.*"
   ]
  },
  {
   "cell_type": "markdown",
   "metadata": {},
   "source": [
    "# Other Moments: Skew and Kurtosis\n",
    "Sometimes mean and variance are not enough to describe a distribution. When we calculate variance, we square the deviations around the mean. In the case of large deviations, we do not know whether they are likely to be positive or negative. This is where the skewness and symmetry of a distribution come in. A distribution is symmetric if the parts on either side of the mean are mirror images of each other. For example, the normal distribution is symmetric. "
   ]
  },
  {
   "cell_type": "markdown",
   "metadata": {},
   "source": [
    "We gave some intro to the terms in our exercise on normal distribution. Let's give them a much formal treatment now"
   ]
  },
  {
   "cell_type": "markdown",
   "metadata": {},
   "source": [
    "## Skew\n",
    "A distribution which is not symmetric is called skewed. For instance, a distribution can have many small positive and a few large negative values (negatively skewed) or vice versa (positively skewed), and still have a mean of 0. A symmetric distribution has skewness 0. Positively skewed unimodal (one mode) distributions have the property that mean > median > mode. Negatively skewed unimodal distributions are the reverse, with mean < median < mode. All three are equal for a symmetric unimodal distribution.\n",
    "The explicit formula for skewness is: $$ S_K = \\frac{n}{(n-1)(n-2)} \\frac{\\sum_{i=1}^n (X_i - \\mu)^3}{\\sigma^3} $$\n",
    "Where $n$ is the number of observations, $\\mu$ is the arithmetic mean, and $\\sigma$ is the standard deviation. The sign of this quantity describes the direction of the skew as described above. We can plot a positively skewed and a negatively skewed distribution to see what they look like. For unimodal distributions, a negative skew typically indicates that the tail is fatter on the left, while a positive skew indicates that the tail is fatter on the right."
   ]
  },
  {
   "cell_type": "code",
   "execution_count": null,
   "metadata": {},
   "outputs": [],
   "source": [
    "import matplotlib.pyplot as plt\n",
    "import numpy as np\n",
    "import scipy.stats as stats\n",
    "\n",
    "# Generate x-values for which we will plot the distribution\n",
    "xs2 = np.linspace(stats.lognorm.ppf(0.01, .7, loc=-.1), stats.lognorm.ppf(0.99, .7, loc=-.1), 150)\n",
    "\n",
    "# Negatively skewed distribution\n",
    "lognormal = stats.lognorm.pdf(xs2, .7)\n",
    "plt.plot(xs2, lognormal, label='Skew > 0')\n",
    "\n",
    "# Positively skewed distribution\n",
    "plt.plot(xs2, lognormal[::-1], label='Skew < 0')\n",
    "plt.legend()\n",
    "plt.show()"
   ]
  },
  {
   "cell_type": "markdown",
   "metadata": {},
   "source": [
    "**Ex 1: Now calculate the skew of AAPL stock returns 2013-2017. Also calculate mean and median. What do you find?**\n",
    "\n",
    "You can use the `.skew()` function from `scipy.stats` for skew\n"
   ]
  },
  {
   "cell_type": "code",
   "execution_count": null,
   "metadata": {},
   "outputs": [],
   "source": [
    "# Install yahoo finance to obtain historical market data\n",
    "!pip install yfinance"
   ]
  },
  {
   "cell_type": "code",
   "execution_count": null,
   "metadata": {},
   "outputs": [],
   "source": [
    "import yfinance as yf\n",
    "\n",
    "# Download data for apple\n",
    "startDateStr = '2012-12-31'\n",
    "endDateStr = '2017-12-31'\n",
    "instrumentId = 'AAPL'\n",
    "data = yf.download(instrumentId, startDateStr, endDateStr)\n",
    "price_aapl = data.Close"
   ]
  },
  {
   "cell_type": "code",
   "execution_count": null,
   "metadata": {},
   "outputs": [],
   "source": [
    "# Calculate skew, mean, median of AAPL stock returns\n",
    "returns_aapl = None # Calculate returns and remove na\n",
    "skew = None\n",
    "mean = None\n",
    "median = None\n",
    "print('Skew: %s, mean: %s, median: %s'%(skew, mean, median))"
   ]
  },
  {
   "cell_type": "markdown",
   "metadata": {},
   "source": [
    "You skew should be negative. This a common feature across all stocks and stock indices. Why do you think that is? Think about this before reading further.\n",
    "\n",
    "We said that negative skew means distribution has many small positive and a few large negative values, but the mean is still 0. This basically implies small positive moves are highly likely (more likely than small negative moves) and large negative moves are highly likely (more likely than large positive moves). This is exactly how stock market behaves. During good, bullish days, stocks slowly keep drifting up and generate small positive returns daily. When bad news bears, panic hits the market and stocks start moving down rapidly. Initial down moves cause further panic, leading to extreme down moves. Hence extreme down moves are more likely than extreme up moves. \n",
    "This type of distribution has a fat tail, i.e extreme events have a higher probability than normal distribution. Isn't that what we also found in last post when comparing the probability of $3\\sigma$ moves in AAPL to a normal distribution?\n",
    "\n"
   ]
  },
  {
   "cell_type": "markdown",
   "metadata": {},
   "source": [
    "## Kurtosis\n",
    "Kurtosis measures how peaked a distribution is compared to the normal distribution. All normal distributions are called mesokurtic and have a kurtosis of 3 regardless of mean and variance. A leptokurtic distribution (kurtosis > 3) is highly peaked and has fat tails, while a platykurtic distribution (kurtosis < 3) is broad. \n",
    "\n",
    "Sometimes, however, kurtosis in excess of the normal distribution (kurtosis - 3) is used, and this is the default in scipy. A leptokurtic distribution has more frequent large jumps away from the mean than a normal distribution does while a platykurtic distribution has fewer."
   ]
  },
  {
   "cell_type": "code",
   "execution_count": null,
   "metadata": {},
   "outputs": [],
   "source": [
    "# Plot some example distributions\n",
    "xs = np.linspace(-6,6, 300)\n",
    "normal = stats.norm.pdf(xs)\n",
    "\n",
    "plt.plot(xs,stats.laplace.pdf(xs), label='Leptokurtic')\n",
    "print('Excess kurtosis of leptokurtic distribution:', (stats.laplace.stats(moments='k')))\n",
    "plt.plot(xs, normal, label='Mesokurtic (normal)')\n",
    "print('Excess kurtosis of mesokurtic distribution:', (stats.norm.stats(moments='k')))\n",
    "plt.plot(xs,stats.cosine.pdf(xs), label='Platykurtic')\n",
    "print('Excess kurtosis of platykurtic distribution:', (stats.cosine.stats(moments='k')))\n",
    "plt.legend()"
   ]
  },
  {
   "cell_type": "markdown",
   "metadata": {},
   "source": [
    "The formula for kurtosis is $$ K = \\left ( \\frac{n(n+1)}{(n-1)(n-2)(n-3)} \\frac{\\sum_{i=1}^n (X_i - \\mu)^4}{\\sigma^4} \\right ) $$\n",
    "while excess kurtosis is given by $$ K_E = \\left ( \\frac{n(n+1)}{(n-1)(n-2)(n-3)} \\frac{\\sum_{i=1}^n (X_i - \\mu)^4}{\\sigma^4} \\right ) - \\frac{3(n-1)^2}{(n-2)(n-3)} $$\n",
    "For a large number of samples, the excess kurtosis becomes approximately\n",
    "$$ K_E \\approx \\frac{1}{n} \\frac{\\sum_{i=1}^n (X_i - \\mu)^4}{\\sigma^4} - 3 $$\n",
    "Since above we were considering perfect, continuous distributions, this was the form that kurtosis took. However, for a set of samples drawn for the normal distribution, we would use the first definition, and (excess) kurtosis would only be approximately 0."
   ]
  },
  {
   "cell_type": "markdown",
   "metadata": {},
   "source": [
    "**Ex 2: Calculate the excess kurtosis of AAPL sotck returns 2013-2017. What do you find?**\n",
    "\n",
    "You can use the `.kurtosis()` function from `scipy.stats` for kurtosis"
   ]
  },
  {
   "cell_type": "code",
   "execution_count": null,
   "metadata": {},
   "outputs": [],
   "source": [
    "kurtosis = None\n",
    "print('Kurtosis: %s'%kurtosis)"
   ]
  },
  {
   "cell_type": "markdown",
   "metadata": {},
   "source": [
    "We already said that we expect significant observations beyond 3 standard deviations away from the mean, multiple large spikes, so we shouldn't be surprised that the kurtosis is indicating a leptokurtic distribution."
   ]
  },
  {
   "cell_type": "markdown",
   "metadata": {},
   "source": [
    "### Normality Testing Using Jarque-Bera\n",
    "\n",
    "We've used this test in the previous post but let's give you an intuition behind the test. The test  compares whether sample data has skewness and kurtosis similar to a normal distribution. \n",
    "\n",
    "The Jarque Bera test's null hypothesis is that the data came from a normal distribution. Because of this it can err on the side of not catching a non-normal process if you have a low p-value. To be safe it can be good to increase your cutoff when using the test.\n",
    "\n",
    "Remember to treat p-values as binary and not try to read into them or compare them. We'll use a cutoff of 0.05 for our p-value. If the test returns a p-value > 0.05, data in normal otherwise it's not.\n",
    "\n",
    "Let's first perform the test on simulated normal data and make sure it gives the right answer. We simulate normal data 1000 times, and check the pvalue of each simulation."
   ]
  },
  {
   "cell_type": "code",
   "execution_count": null,
   "metadata": {},
   "outputs": [],
   "source": [
    "from statsmodels.stats.stattools import jarque_bera\n",
    "\n",
    "N = 1000\n",
    "M = 1000\n",
    "\n",
    "pvalues = np.ndarray((N))\n",
    "\n",
    "for i in range(N):\n",
    "    # Draw M samples from a normal distribution \n",
    "    X = np.random.normal(0, 1, M);\n",
    "    _, pvalue, _, _ = jarque_bera(X)\n",
    "    pvalues[i] = pvalue\n",
    "    \n",
    "# count number of pvalues below our default 0.05 cutoff\n",
    "num_significant = len(pvalues[pvalues < 0.05])\n",
    "\n",
    "print(float(num_significant) / N)"
   ]
  },
  {
   "cell_type": "markdown",
   "metadata": {},
   "source": [
    "Using a 0.05 cut off, we see that 5% of the simulations had p-value < 0.05, i.e. the test failed on 5% simulations. This is as expected, we should expect to be wrong $5\\%$ of the time at a 0.05 significance level, and this is pretty close. This means that the test is working as we expect."
   ]
  },
  {
   "cell_type": "markdown",
   "metadata": {},
   "source": [
    "**Ex3: We've already done this earlier, but let's perform the test on XLK returns this time**"
   ]
  },
  {
   "cell_type": "code",
   "execution_count": null,
   "metadata": {},
   "outputs": [],
   "source": [
    "# Download data for XLK\n",
    "startDateStr = '2012-12-31'\n",
    "endDateStr = '2017-12-31'\n",
    "instrumentId = 'XLK'\n",
    "data = yf.download(instrumentId, startDateStr, endDateStr)\n",
    "price_XLK = data.Close"
   ]
  },
  {
   "cell_type": "code",
   "execution_count": null,
   "metadata": {},
   "outputs": [],
   "source": [
    "## Run normality test for XLK\n",
    "returns_XLK = None # Compute returns and drop na\n",
    "pvalue = None\n",
    "\n",
    "if returns_XLK and pvalue:\n",
    "    print('pvalue against the null hypothesis that XLK returns are normally distributed: %s'%pvalue)"
   ]
  },
  {
   "cell_type": "markdown",
   "metadata": {},
   "source": [
    "Not normal again right? Since the pvalue is less than 0.05 we can reject the null hypothesis that returns for XLK are normally distributed"
   ]
  },
  {
   "cell_type": "markdown",
   "metadata": {},
   "source": [
    "This presentation is for informational purposes only and does not constitute an offer to sell, a solicitation to buy, or a recommendation for any security; nor does it constitute an offer to provide investment advisory or other services by Auquan. Nothing contained herein constitutes investment advice or offers any opinion with respect to the suitability of any security, and any views expressed herein should not be taken as advice to buy, sell, or hold any security or as an endorsement of any security or company. In preparing the information contained herein, Auquan, has not taken into account the investment needs, objectives, and financial circumstances of any particular investor. Any views expressed and data illustrated herein were prepared based upon information, believed to be reliable, available to Auquan, at the time of publication. Auquan makes no guarantees as to their accuracy or completeness. All information is subject to change and may quickly become unreliable for various reasons, including changes in market conditions or economic circumstances."
   ]
  }
 ],
 "metadata": {
  "kernelspec": {
   "display_name": "Python 3",
   "language": "python",
   "name": "python3"
  },
  "language_info": {
   "codemirror_mode": {
    "name": "ipython",
    "version": 3
   },
   "file_extension": ".py",
   "mimetype": "text/x-python",
   "name": "python",
   "nbconvert_exporter": "python",
   "pygments_lexer": "ipython3",
   "version": "3.7.3"
  }
 },
 "nbformat": 4,
 "nbformat_minor": 2
}
