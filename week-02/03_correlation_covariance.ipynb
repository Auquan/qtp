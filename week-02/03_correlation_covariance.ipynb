{
 "cells": [
  {
   "cell_type": "markdown",
   "metadata": {},
   "source": [
    "*This notebook is intellectual property of Auquan and is distributed under the [Creative Commons Attribution-NonCommercial-NoDerivatives 4.0 International Public License](https://creativecommons.org/licenses/by-nc-nd/4.0/legalcode). Any modification or distribution of this notebook without express permission of Auquan is prohibited and will result in legal prosecution.*"
   ]
  },
  {
   "cell_type": "markdown",
   "metadata": {},
   "source": [
    "# Covariance and Correlation\n",
    "\n",
    "Covariance and correlation describe how two random variables are related."
   ]
  },
  {
   "cell_type": "markdown",
   "metadata": {},
   "source": [
    "## Covariance\n",
    "\n",
    "Covariance measures the extent to which the relationship between two variables is linear. The sign of the covariance shows the trend in the linear relationship between the variables, i.e if they tend to move together or in separate directions. A positive sign indicates that the variables are directly related, i.e. when one increases the other one also increases. A negative sign indicates that the variables are inversely related, so that when one increases the other decreases. It is calculated as\n",
    "$$Cov(X,Y) = E[XY] - E[X]E[Y] = E[(X- E[X])(Y-E[Y])]$$\n",
    "\n",
    "Note that\n",
    "$$Cov(X,X) = E[X^2] - E[X]^2 = E[(X- E[X])^2] = \\sigma^2 $$\n",
    "\n",
    "When the two variables are identical, covariance is same as  variance.\n",
    "\n",
    "### Covariance isn't that meaningful by itself\n",
    "\n",
    "Let's say we have two variables $X$ and $Y$ and we take the covariance of the two."
   ]
  },
  {
   "cell_type": "code",
   "execution_count": null,
   "metadata": {},
   "outputs": [],
   "source": [
    "import os\n",
    "import sys\n",
    "\n",
    "import pandas as pd\n",
    "import numpy as np\n",
    "import matplotlib.pyplot as plt\n",
    "import seaborn as sns\n",
    "from scipy import stats\n",
    "\n",
    "X = np.random.rand(50)\n",
    "Y = 2 * X + np.random.normal(0, 0.1, 50)\n",
    "\n",
    "np.cov(X, Y)[0, 1]"
   ]
  },
  {
   "cell_type": "markdown",
   "metadata": {},
   "source": [
    "What does this mean? We know they move together, but how strongly? To make better sense of data, we introduce correlation\n",
    "\n",
    "## Correlation\n",
    "\n",
    "Correlation uses information about the variance of X and Y to normalize this metric. The value of correlation coeffecient is always between -1 and 1. Once we've normalized the metric to the -1 to 1 scale, we can make meaningful statements and compare correlations. \n",
    "\n",
    "To normalize Covariance, consider\n",
    "\n",
    "$$\\frac{Cov(X, Y)}{\\sqrt{Cov(X, X)}\\sqrt{Cov(Y, Y)}}$$\n",
    "\n",
    "$$= \\frac{Cov(X, Y)}{\\sigma(X)\\sigma(Y)} = \\rho$$ \n",
    "\n",
    "where $\\rho$ is the correlation coefficient of two series $X$ and $Y$ and can range from −1 to 1; =1 or -1 implies that the relationship between two random variables can be perfectly described by a linear equation. A positive sign indicates both the variables increase or decrease together while a negative sign indicates one decreases as other increases. A value of 0 implies that there is no linear correlation between the variables.\n",
    "For example, if oil production in the world decreases, petrol prices rise. These two variables move in opposite directions, so their covariance will have a negative sign. How significantly can the petrol prices be expected to change is shown by the value of correlation coefficient.\n",
    "\n",
    "Two random sets of data will have a correlation coefficient close to 0:\n",
    "\n",
    "### Correlation vs. Covariance\n",
    "\n",
    "Correlation is simply a normalized form of covariance. They are otherwise the same and are often used semi-interchangeably in everyday conversation. It is obviously important to be precise with language when discussing the two, but conceptually they are almost identical.\n"
   ]
  },
  {
   "cell_type": "code",
   "execution_count": null,
   "metadata": {},
   "outputs": [],
   "source": [
    "print('Covariance of X and Y: %.2f'%np.cov(X, Y)[0, 1])\n",
    "print('Correlation of X and Y: %.2f'%np.corrcoef(X, Y)[0, 1])"
   ]
  },
  {
   "cell_type": "markdown",
   "metadata": {},
   "source": [
    "To get a sense of what correlated data looks like, lets plot two correlated datasets\n",
    "\n",
    "\n",
    "\n"
   ]
  },
  {
   "cell_type": "code",
   "execution_count": null,
   "metadata": {},
   "outputs": [],
   "source": [
    "X = np.random.rand(50)\n",
    "Y = X + np.random.normal(0, 0.1, 50)\n",
    "\n",
    "plt.scatter(X,Y)\n",
    "plt.xlabel('X Value')\n",
    "plt.ylabel('Y Value')\n",
    "plt.show()\n",
    "print('Correlation of X and Y: %.2f'%np.corrcoef(X, Y)[0, 1])"
   ]
  },
  {
   "cell_type": "markdown",
   "metadata": {},
   "source": [
    "And here's an inverse relationship"
   ]
  },
  {
   "cell_type": "code",
   "execution_count": null,
   "metadata": {},
   "outputs": [],
   "source": [
    "X = np.random.rand(50)\n",
    "Y = -X + np.random.normal(0, .1, 50)\n",
    "\n",
    "plt.scatter(X,Y)\n",
    "plt.xlabel('X Value')\n",
    "plt.ylabel('Y Value')\n",
    "plt.show()\n",
    "print('Correlation of X and Y: %.2f'%np.corrcoef(X, Y)[0, 1])"
   ]
  },
  {
   "cell_type": "markdown",
   "metadata": {},
   "source": [
    "### Applications in finance\n",
    "\n",
    "Let's look at correlation in financial datasets. We look for correlation between prices of AAPL stock and the market (SPX) as well as another stock"
   ]
  },
  {
   "cell_type": "code",
   "execution_count": null,
   "metadata": {},
   "outputs": [],
   "source": [
    "# Install yahoo finance to obtain historical market data\n",
    "!pip install yfinance"
   ]
  },
  {
   "cell_type": "code",
   "execution_count": null,
   "metadata": {},
   "outputs": [],
   "source": [
    "import yfinance as yf\n",
    "\n",
    "# Download data for stocks\n",
    "startDateStr = '2012-12-31'\n",
    "endDateStr = '2017-12-31'\n",
    "instrumentIds = ['AAPL','LRCX', 'SPY']\n",
    "price_dict = {}\n",
    "for instrumentId in instrumentIds:\n",
    "    data = yf.download(instrumentId, startDateStr, endDateStr)\n",
    "    price_dict[instrumentId] = data.Close"
   ]
  },
  {
   "cell_type": "code",
   "execution_count": null,
   "metadata": {},
   "outputs": [],
   "source": [
    "a1 = price_dict['AAPL']\n",
    "a2 = price_dict['LRCX']\n",
    "bench = price_dict['SPY']\n",
    "plt.scatter(a1,a2)\n",
    "plt.xlabel('LRCX')\n",
    "plt.ylabel('AAPL')\n",
    "plt.title('Stock prices from ' + startDateStr + ' to ' + endDateStr)\n",
    "plt.show()\n",
    "print('Correlation of %s and %s: %.2f'%('AAPL', 'LRCX', np.corrcoef(a1,a2)[0, 1]))"
   ]
  },
  {
   "cell_type": "markdown",
   "metadata": {},
   "source": [
    "Once we've established that two series are probably related, we can use that in an effort to predict future values of the series.\n",
    "\n",
    "Another application is to find uncorrelated assets to produce hedged portfolios - if the assets are uncorrelated, a drawdown in one will not correspond with a drawdown in another. This leads to a very stable return stream when many uncorrelated assets are combined."
   ]
  },
  {
   "cell_type": "code",
   "execution_count": null,
   "metadata": {},
   "outputs": [],
   "source": [
    "# Download data for stocks\n",
    "startDateStr = '2012-12-31'\n",
    "endDateStr = '2017-12-31'\n",
    "instrumentIds = ['AAPL','MSFT', 'FB', 'GOOG', 'T', 'INTC', 'V', 'CSCO', 'VZ']\n",
    "price_dict = {}\n",
    "for instrumentId in instrumentIds:\n",
    "    data = yf.download(instrumentId, startDateStr, endDateStr)\n",
    "    price_dict[instrumentId] = data.Close"
   ]
  },
  {
   "cell_type": "markdown",
   "metadata": {},
   "source": [
    "**Ex1: Calculate the volatility of this basket now taking covariance into account.**\n",
    "\n",
    "| Symbol | % of Portfolio \n",
    "| ------ | -----\n",
    "|AAPL | 24% \n",
    "|MSFT | 18.25%\n",
    "|GOOG | 17.5%\n",
    "|FB\t| 11.75%\n",
    "|T | 6.5%\n",
    "|INTC | 6%\n",
    "|V | 5.75%\n",
    "|CSCO | 5.25%\n",
    "|VZ | 5%\n",
    "\n",
    "Remember, $\\sigma^2(X+Y) = \\sigma^2(X) + \\sigma^2(Y) + 2*Cov(X,Y)$\n",
    "\n",
    "If you are calculating a weighted sum, $\\sigma^2(\\sum X_i) = w(X_i)^T Cov(X_i) w(X_i)$\n",
    "where $w(X_i)$ is the weight vector "
   ]
  },
  {
   "cell_type": "code",
   "execution_count": null,
   "metadata": {},
   "outputs": [],
   "source": [
    "##"
   ]
  },
  {
   "cell_type": "markdown",
   "metadata": {},
   "source": [
    "What happens if you add a negatively correlated stock into the mix?\n",
    "\n",
    "Consider the case of a single stock, AAPL. Let's say I find a second stock Y such that\n",
    "$$E[Future\\:Returns\\:of\\:Y] ∼ E[Future\\:Returns\\:of\\:AAPL]$$ and $$Cov(AAPL,\\:Y) < 0$$\n",
    "If we buy these two in equal quantities,the expected return of the basket =\n",
    "$$E[0.5 *AAPL + 0.5*Y ] = 0.5*(E[AAPL]+E[Y]) ∼ E[AAPL]$$\n",
    "And standard deviation of this basket:\n",
    "$$\\sigma_{AAPL+Y} = \\sqrt{\\sigma_{AAPL}^2+\\sigma_{Y}^2+2*Cov(AAPL,\\:Y)} <\\sigma_{AAPL}$$ \n",
    "Therefore we can improve our investment decision by adding this stock to our portfolio.\n",
    "\n",
    "Let's generate a fake stock 'Y' who returns are drawn from a normal distribution with same standard deviation as AAPL returns but the returns are negative correlated with returns of AAPL.\n",
    "\n",
    "**Ex2: Add this stock Y to your original basket of tech stocks and give it 10% basket weight. Now recalculate basket volatility. What do you find?**\n"
   ]
  },
  {
   "cell_type": "code",
   "execution_count": null,
   "metadata": {},
   "outputs": [],
   "source": [
    "Y_returns = np.random.normal(returns['AAPL'].mean(),returns['AAPL'].std(),len(returns)) - returns['AAPL']\n",
    "# recalculate basket volatility"
   ]
  },
  {
   "cell_type": "markdown",
   "metadata": {},
   "source": [
    "A large part of portfolio optimization related to finding such uncorrelated stocks with high returns to result in a portfolio with overall high returns but low volatility."
   ]
  },
  {
   "cell_type": "markdown",
   "metadata": {},
   "source": [
    "### Important: Significance of Correlation\n",
    "\n",
    "It's hard to rigorously determine whether or not a correlation is significant, especially when we are not aware if the variables are normally distributed or not. \n",
    "\n",
    "Consider our two stocks, AAPL and LRCX. Their correlation coefficient is close to 1, so it's pretty safe to say that the two stock prices are correlated over the time period we tested over, but is this indicative of future correlation? \n",
    "\n",
    "As an example, remember that the correlation of AAPL and LRCX from 2013-1-1 to 2015-1-1 was 0.95. \n",
    "\n",
    "**Ex3: Plot the rolling 60 day correlation between the two to see how that varies.**\n",
    "You can use `series1.rolling(window=period).corr(series2)` function to calculate this. In general `df.rolling()` can be used to calculate many rolling quantitities, like rolling mean, standard deviation etc"
   ]
  },
  {
   "cell_type": "code",
   "execution_count": null,
   "metadata": {},
   "outputs": [],
   "source": [
    "#Plot rolling correlation\n",
    "plt.figure()\n",
    "plt.show()"
   ]
  },
  {
   "cell_type": "markdown",
   "metadata": {},
   "source": [
    "What do you find? You'll see the correlation is not only unstable, but also reverses sign!\n",
    "\n",
    "It may also be possible that we may be led to believe that two stocks have a relationship because of their high correlation, when in fact they are both caused by a third factor(market). \n",
    "\n",
    "**Ex4: Examine the correlation of each stock with the S&P 500 (labeled as SPY)**\n"
   ]
  },
  {
   "cell_type": "code",
   "execution_count": null,
   "metadata": {},
   "outputs": [],
   "source": [
    "#Calculate correlation with SPY"
   ]
  },
  {
   "cell_type": "markdown",
   "metadata": {},
   "source": [
    "You'll see that each stock is very strongly correlated with S&P 500, so we cannot be sure if they are actually correlated with each other.\n",
    "\n",
    "Another problem is we may determine a good correlation by picking the right time period but it may not hold out of sample. To avoid this, one should compute the correlation of two quantities over many historical time periods and examine the distibution of the correlation coefficient. "
   ]
  },
  {
   "cell_type": "markdown",
   "metadata": {},
   "source": [
    "**Another shortcoming is that two variables may be associated in different, predictable but non-linear ways which this analysis would not pick up. For example, a variable may be related to the rate of change of another which will not be detected by correlation alone.**\n",
    "\n",
    "**Just remember to be careful not to interpret results where there are none.**"
   ]
  },
  {
   "cell_type": "markdown",
   "metadata": {},
   "source": [
    "This presentation is for informational purposes only and does not constitute an offer to sell, a solicitation to buy, or a recommendation for any security; nor does it constitute an offer to provide investment advisory or other services by Auquan. Nothing contained herein constitutes investment advice or offers any opinion with respect to the suitability of any security, and any views expressed herein should not be taken as advice to buy, sell, or hold any security or as an endorsement of any security or company. In preparing the information contained herein, Auquan, has not taken into account the investment needs, objectives, and financial circumstances of any particular investor. Any views expressed and data illustrated herein were prepared based upon information, believed to be reliable, available to Auquan, at the time of publication. Auquan makes no guarantees as to their accuracy or completeness. All information is subject to change and may quickly become unreliable for various reasons, including changes in market conditions or economic circumstances."
   ]
  }
 ],
 "metadata": {
  "kernelspec": {
   "display_name": "Python 3",
   "language": "python",
   "name": "python3"
  },
  "language_info": {
   "codemirror_mode": {
    "name": "ipython",
    "version": 3
   },
   "file_extension": ".py",
   "mimetype": "text/x-python",
   "name": "python",
   "nbconvert_exporter": "python",
   "pygments_lexer": "ipython3",
   "version": "3.7.3"
  }
 },
 "nbformat": 4,
 "nbformat_minor": 2
}
