{
 "cells": [
  {
   "cell_type": "markdown",
   "metadata": {},
   "source": [
    "*This notebook is intellectual property of Auquan and is distributed under the [Creative Commons Attribution-NonCommercial-NoDerivatives 4.0 International Public License](https://creativecommons.org/licenses/by-nc-nd/4.0/legalcode). Any modification or distribution of this notebook without express permission of Auquan is prohibited and will result in legal prosecution.*"
   ]
  },
  {
   "cell_type": "markdown",
   "metadata": {},
   "source": [
    "\n",
    "# Expected Value\n",
    "\n",
    "The expected value of a random variable is the probability-weighted average of all possible values.\n",
    "When these probabilities are equal, the expected value is the same as arithmetic mean, defined as the sum of the observations divided by the number of observations:\n",
    "$$\\mu = \\frac{\\sum_{i=1}^N X_i}{N}$$\n",
    "\n",
    "where $X_1, X_2, \\ldots , X_N$ are our observations.\n",
    "\n",
    "For example, if a dice is rolled repeatedly many times, we expect all numbers from 1 - 6 to show up an equal number of times. So the expected value in rolling a six-sided die is 3.5.\n"
   ]
  },
  {
   "cell_type": "code",
   "execution_count": null,
   "metadata": {},
   "outputs": [],
   "source": [
    "from __future__ import print_function\n",
    "import numpy as np\n",
    "import scipy.stats as stats\n",
    "\n",
    "# Let's say the random variables x1 and x2 have the following values\n",
    "x1 = [10,9,8,5,5,6,7,4,3,2]\n",
    "x2 = x1 + [100]\n",
    "\n",
    "print ('Mean of x1:', sum(x1), '/', len(x1), '=', np.mean(x1))\n",
    "print ('Mean of x2:', sum(x2), '/', len(x2), '=', np.mean(x2))"
   ]
  },
  {
   "cell_type": "markdown",
   "metadata": {},
   "source": [
    "When the probabilities of different observations are not equal, i.e a random variable $X$ can take value $X_1$ with probability $p_1$, $X_2$ with probability $p_2$, and so on, the expected value of X is the same as <i>weighted</i> arithmetic mean.\n",
    "The weighted arithmetic mean is defined as\n",
    "$$\\sum_{i=1}^n p_i X_i $$\n",
    "\n",
    "where $\\sum_{i=1}^n p_i = 1$\n",
    "\n",
    "This is how we calculated the expected value of trades in the first exercise: $EV(Trade) = \\sum P(X)*profit(X)$"
   ]
  },
  {
   "cell_type": "markdown",
   "metadata": {},
   "source": [
    "The expected value is simply the average of all values obtained if you perform the experiment it represents many times. Number of times a value X is obtained / Total number of times an experiment is perfomed is the probability(X). Hence the result $EV = \\sum P(X)*X$\n",
    "\n",
    "This follows from the law of large numbers - the average of the results obtained from a large number of repetitions of an experiment should be close to the expected value, and will tend to become closer as more trials are performed.\n",
    "\n",
    "### Some properties of expected values that are handy:\n",
    "* The expected value of a constant is equal to the constant itself $E[c] = c$\n",
    "* The expected value is linear, i.e $E[aX+bY] = aE[X]+bE[Y]$ \n",
    "* If $X \\leq Y$ , then $E[X] \\leq E[Y]$\n",
    "* The expected value not multiplicative, i.e. $E[XY]$ is not necessarily equal to $E[X]E[Y]$. \n",
    "  The amount by which they differ is called the covariance, covered in a later notebook.\n",
    "  $Cov(X,Y)=E[XY]-E[X]E[Y]$\n",
    "  If X and Y are uncorrelated, $Cov(X,Y)=0$\n"
   ]
  },
  {
   "cell_type": "markdown",
   "metadata": {},
   "source": [
    "You've already used expected value to solve questions in the first post of this week. For example, in Ex2 of part 1, when you calculate if you should trade or wait at a level, you use the following approach:\n",
    "- Calculate probability $p$ that level gets better by 1 before it goes back to the same level where you entered position\n",
    "- Calculate profit if you wait and exit position when level gets better\n",
    "- Calculate loss if you wait and stock goes back to the same level where you entered position\n",
    "- EV(Waiting for Next Level) = $p*Profit(Current Level+1) + (1-p)*Loss(Enter Level)$\n",
    "\n",
    "Now you can compare this to profit from exiting position at current level. You wait to trade if EV(Waiting for Next Level) > Current Profit otherwise trade now"
   ]
  },
  {
   "cell_type": "markdown",
   "metadata": {},
   "source": [
    "### Other measures of centrality that are commonly used are:"
   ]
  },
  {
   "cell_type": "markdown",
   "metadata": {
    "collapsed": true
   },
   "source": [
    "- **Median**\n",
    "\n",
    "Number which appears in the middle of the list when it is sorted in increasing or decreasing order, i.e. the value in $(n+1)/2$ when $n$ is odd and the average of the values in $n/2$ and $(n+2)/2$ positions when $n$ is even. One advantage of using median in describing data compared to the mean is that it is not skewed so much by extremely large or small values\n",
    "\n",
    "The median tell us the value that splits the data set in half, but not how much smaller or larger the other values are."
   ]
  },
  {
   "cell_type": "code",
   "execution_count": null,
   "metadata": {},
   "outputs": [],
   "source": [
    "print('Median of x1:', np.median(x1))\n",
    "print('Median of x2:', np.median(x2))"
   ]
  },
  {
   "cell_type": "markdown",
   "metadata": {},
   "source": [
    "* **Mode**\n",
    "\n",
    "Most frequently occuring value in a data set. The mode of a probability distribution is the value x at which its probability distribution function takes its maximum value."
   ]
  },
  {
   "cell_type": "code",
   "execution_count": null,
   "metadata": {},
   "outputs": [],
   "source": [
    "def mode(l):\n",
    "    # Count the number of times each element appears in the list\n",
    "    counts = {}\n",
    "    for e in l:\n",
    "        if e in counts:\n",
    "            counts[e] += 1\n",
    "        else:\n",
    "            counts[e] = 1\n",
    "            \n",
    "    # Return the elements that appear the most times\n",
    "    maxcount = 0\n",
    "    modes = {}\n",
    "    for key in counts:\n",
    "        if counts[key] > maxcount:\n",
    "            maxcount = counts[key]\n",
    "            modes = {key}\n",
    "        elif counts[key] == maxcount:\n",
    "            modes.add(key)\n",
    "            \n",
    "    if maxcount > 1 or len(l) == 1:\n",
    "        return list(modes)\n",
    "    return 'No mode'\n",
    "    \n",
    "print ('All of the modes of x1:', mode(x1))"
   ]
  },
  {
   "cell_type": "markdown",
   "metadata": {},
   "source": [
    "* **Geometric mean**\n",
    "\n",
    "It is the central tendency of a set of numbers by using the product of their values (as opposed to the arithmetic mean which uses their sum). The geometric mean is defined as the nth root of the product of n numbers:\n",
    "$$ G = \\sqrt[n]{X_1X_1\\ldots X_n} $$\n",
    "\n",
    "for observations $X_i \\geq 0$. We can also rewrite it as an arithmetic mean using logarithms:\n",
    "$$ \\ln G = \\frac{\\sum_{i=1}^n \\ln X_i}{n} $$\n",
    "\n",
    "The geometric mean is always less than or equal to the arithmetic mean (when working with nonnegative observations), with equality only when all of the observations are the same."
   ]
  },
  {
   "cell_type": "code",
   "execution_count": null,
   "metadata": {},
   "outputs": [],
   "source": [
    "# Use scipy's gmean function to compute the geometric mean\n",
    "print ('Geometric mean of x1:', stats.gmean(x1))\n",
    "print ('Geometric mean of x2:', stats.gmean(x2))"
   ]
  },
  {
   "cell_type": "markdown",
   "metadata": {},
   "source": [
    "Geometric MEan is frequently used with stock returns. If we have stocks returns $R_1, \\ldots, R_T$ over different times, we use the geometric mean to calculate average return $R_G$ so that if the rate of return over the whole time period were constant and equal to $R_G$, the final price of the security would be the same as in the case of returns $R_1, \\ldots, R_T$.\n",
    "$$ R_G = \\sqrt[T]{(1 + R_1)\\ldots (1 + R_T)} - 1$$"
   ]
  },
  {
   "cell_type": "markdown",
   "metadata": {},
   "source": [
    "# Variance and Standard Deviation\n",
    "\n",
    "Variance and Standard Deviation are measures of dispersion of dataset from the mean.\n",
    "\n",
    "We can define the mean absolute deviation as the average of the distances of observations from the arithmetic mean. We use the absolute value of the deviation, so that 5 above the mean and 5 below the mean both contribute 5, because otherwise the deviations always sum to 0.\n",
    "\n",
    "$$ MAD = \\frac{\\sum_{i=1}^n |X_i - \\mu|}{n} $$\n",
    "\n",
    "where $n$ is the number of observations and $\\mu$ is their mean.\n",
    "\n",
    "Instead of using absolute deviations, we can use the squared deviations, this is called **variance** $\\sigma^2$ : the average of the squared deviations around the mean:\n",
    "$$ \\sigma^2 = \\frac{\\sum_{i=1}^n (X_i - \\mu)^2}{n} $$\n",
    "\n",
    "**Standard deviation** is simply the square root of the variance, $\\sigma$, and it is the easier of the two to interpret because it is in the same units as the observations.\n",
    "\n",
    "Note that variance is additive while standard deviation is not."
   ]
  },
  {
   "cell_type": "code",
   "execution_count": null,
   "metadata": {},
   "outputs": [],
   "source": [
    "print('Variance of x1:', np.var(x1))\n",
    "print('Standard deviation of x1:', np.std(x1))\n",
    "print('Variance of x2:', np.var(x2))\n",
    "print('Standard deviation of x2:', np.std(x2))"
   ]
  },
  {
   "cell_type": "markdown",
   "metadata": {},
   "source": [
    "Standard deviation indicates the amount of variation in a set of data values. A low standard deviation indicates that the data points tend to be close to the expected value, while a high standard deviation indicates that the data points are spread out over a wider range of values.\n",
    " \n",
    "### Some properties of standard deviation that are handy:\n",
    "\n",
    "* The standard deviation of a constant is equal to 0\n",
    "* Standard deviations cannot be added. Therefore, $\\sigma(X+Y)\\neq \\sigma(X) + \\sigma(Y)$\n",
    "* However, variance, can be added. Infact, $\\sigma^2(X+Y) = \\sigma^2(X) + \\sigma^2(Y) + 2*Cov(X,Y)$\n",
    "* If X and Y are uncorrelated,  $Cov(X,Y)=0$ and $\\sigma^2(X+Y) = \\sigma^2(X) + \\sigma^2(Y)$\n",
    "\n",
    "## Volatility\n",
    "\n",
    "If an experiment is performed daily and the results of an experiment on one day do not affect the on their results any other day, daily observation are uncorrelated. If we measure daily standard deviation as $\\sigma_i$ then we can calculate the standard deviation for an year, also called annualized standard deviation as:\n",
    "$$\\sigma_{ann} = \\sqrt{\\sum_{i=1}^T \\sigma_i^2}$$\n",
    "\n",
    "In finance, we sum over all trading days and this annualized standard deviation is called **Volatility**. A year usually has 252 trading days and it is common practice to approximate this to 256 for quick calculation. Therefore a stock who's returns follow a standard normal distribution with $\\sigma = 1$ will have a volatility of $\\sqrt{256*1^2}= 16$%"
   ]
  },
  {
   "cell_type": "code",
   "execution_count": null,
   "metadata": {},
   "outputs": [],
   "source": [
    "# Install yahoo finance to obtain historical market data\n",
    "!pip install yfinance"
   ]
  },
  {
   "cell_type": "code",
   "execution_count": null,
   "metadata": {},
   "outputs": [],
   "source": [
    "import yfinance as yf\n",
    "\n",
    "startDateStr = '2012-12-31'\n",
    "endDateStr = '2017-12-31'\n",
    "instrumentIds = ['AAPL','MSFT', 'FB', 'GOOG', 'T', 'INTC', 'V', 'CSCO', 'VZ']\n",
    "data_dict = {}\n",
    "for instrumentId in instrumentIds:\n",
    "    data = yf.download(instrumentId, startDateStr, endDateStr)\n",
    "    data_dict[instrumentId] = data.Close"
   ]
  },
  {
   "cell_type": "markdown",
   "metadata": {},
   "source": [
    "**Ex1: We've loaded data 5y daily data for a few stocks from 2013-17. Write code to calculate the volatility of these stock returns**"
   ]
  },
  {
   "cell_type": "code",
   "execution_count": null,
   "metadata": {},
   "outputs": [],
   "source": [
    "import numpy as np\n",
    "\n",
    "# Calculate vol of each stock\n",
    "for instrumentId in instrumentIds:\n",
    "    prices = data_dict[instrumentId]\n",
    "    \n",
    "    returns = None # Calculate this using price(t)/price(t-1) - 1\n",
    "    vol = None # Calculate this using np.std() over returns \n",
    "    \n",
    "    print('Volatility for %s is : %s'%(instrumentId, vol) )"
   ]
  },
  {
   "cell_type": "markdown",
   "metadata": {},
   "source": [
    "Now let's say we create a basket of stocks in the given ratio. "
   ]
  },
  {
   "cell_type": "markdown",
   "metadata": {},
   "source": [
    "Now let's say we create a basket of stocks in the given ratio. \n",
    "\n",
    "**Ex2: Calculate the average return of this basket and volatility of this basket assuming each stock is independent.**\n",
    "\n",
    "| Symbol | % of Portfolio |\n",
    "|--------|----------------|\n",
    "|AAPL | 24% |\n",
    "|MSFT | 18.25% |\n",
    "|GOOG | 17.5% |\n",
    "|FB\t| 11.75% |\n",
    "|T | 6.5% |\n",
    "|INTC | 6% |\n",
    "|V | 5.75% |\n",
    "|CSCO | 5.25% |\n",
    "|VZ | 5% |"
   ]
  },
  {
   "cell_type": "code",
   "execution_count": null,
   "metadata": {},
   "outputs": [],
   "source": [
    "# Calculate vol of basket made up of stocks in given ratio\n",
    "w = np.array([0.24, 0.1825, 0.175, 0.1175, 0.065, 0.06, 0.0575, 0.0525 , 0.05])\n",
    "\n",
    "portfolio_price = None # Compute this using weighted composition of stock prices\n",
    "portfolio_returns = None # Compute this as done before\n",
    "if portfolio_returns:\n",
    "    print('Volatility for the portfolio is: %s'%(np.std(returns)))"
   ]
  },
  {
   "cell_type": "code",
   "execution_count": null,
   "metadata": {},
   "outputs": [],
   "source": [
    "instrumentId = 'XLK'\n",
    "ds = yf.download(instrumentId, startDateStr, endDateStr)\n",
    "XLK_price = ds.Close"
   ]
  },
  {
   "cell_type": "markdown",
   "metadata": {},
   "source": [
    "**Ex3: Now calculate the returns and volatility for XLK. XLK is the sector index for techstocks in S&P and these stocks make up more than 70% of the index.**\n",
    "\n",
    "Do you find that the volatility you calclate for index matches with that of the basket above?"
   ]
  },
  {
   "cell_type": "code",
   "execution_count": null,
   "metadata": {},
   "outputs": [],
   "source": [
    "#Calculate vol of XLK\n",
    "XLK_returns = None #Calculate this using XLK_price\n",
    "if XLK_returns:\n",
    "    print('Volatility for the XLK is: %s'%(np.std(returns)))"
   ]
  },
  {
   "cell_type": "markdown",
   "metadata": {},
   "source": [
    "What does this tell us? The stock prices are not independent of each other and we must account for this in our calculations. We do this by calculating Covariance. We'll cover this in next post."
   ]
  },
  {
   "cell_type": "markdown",
   "metadata": {},
   "source": [
    "### Note: These are Only Estimates\n",
    "\n",
    "It is important to remember that when we are working with a subset of actual data, these computations will only give you sample statistics, that is mean and standard deviation of a sample of data. Whether or not this reflects the current true population mean and standard deviation is not always obvious, and more effort has to be put into determining that. This is especially problematic in finance because all data are time series and the mean and variance may change over time. In general do not assume that because something is true of your sample, it will remain true going forward."
   ]
  },
  {
   "cell_type": "markdown",
   "metadata": {},
   "source": [
    "This presentation is for informational purposes only and does not constitute an offer to sell, a solicitation to buy, or a recommendation for any security; nor does it constitute an offer to provide investment advisory or other services by Auquan. Nothing contained herein constitutes investment advice or offers any opinion with respect to the suitability of any security, and any views expressed herein should not be taken as advice to buy, sell, or hold any security or as an endorsement of any security or company. In preparing the information contained herein, Auquan, has not taken into account the investment needs, objectives, and financial circumstances of any particular investor. Any views expressed and data illustrated herein were prepared based upon information, believed to be reliable, available to Auquan, at the time of publication. Auquan makes no guarantees as to their accuracy or completeness. All information is subject to change and may quickly become unreliable for various reasons, including changes in market conditions or economic circumstances."
   ]
  }
 ],
 "metadata": {
  "kernelspec": {
   "display_name": "Python 3",
   "language": "python",
   "name": "python3"
  },
  "language_info": {
   "codemirror_mode": {
    "name": "ipython",
    "version": 3
   },
   "file_extension": ".py",
   "mimetype": "text/x-python",
   "name": "python",
   "nbconvert_exporter": "python",
   "pygments_lexer": "ipython3",
   "version": "3.7.3"
  }
 },
 "nbformat": 4,
 "nbformat_minor": 2
}
